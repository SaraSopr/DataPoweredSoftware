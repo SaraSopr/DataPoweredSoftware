{
 "cells": [
  {
   "metadata": {},
   "cell_type": "markdown",
   "source": [
    "# 1 Data Exploration\n",
    "    a. Explore the dataset by displaying the first few rows, summary statistics, and data types of each column.\n",
    "    b. Identify missing values, outliers, and unique values in categorical columns."
   ]
  },
  {
   "metadata": {},
   "cell_type": "markdown",
   "source": [
    "## 1.1 Smoking dataset\n",
    "### 1.1.a"
   ]
  },
  {
   "metadata": {
    "ExecuteTime": {
     "end_time": "2025-09-07T08:56:31.983871Z",
     "start_time": "2025-09-07T08:56:30.443142Z"
    }
   },
   "cell_type": "code",
   "source": [
    "import pandas as pd\n",
    "df = pd.read_csv('data/assigment_1/smoking/smoking_driking_dataset_Ver01.csv')\n",
    "\n",
    "print(\"First 5 rows of the dataset:\")\n",
    "print(df.head())\n",
    "\n",
    "print(\"\\nSummary statistics for numerical columns:\")\n",
    "print(df.describe())\n",
    "\n",
    "print(\"\\nData types of each column:\")\n",
    "print(df.dtypes)"
   ],
   "outputs": [
    {
     "name": "stdout",
     "output_type": "stream",
     "text": [
      "First 5 rows of the dataset:\n",
      "    sex  age  height  weight  waistline  sight_left  sight_right  hear_left  \\\n",
      "0  Male   35     170      75       90.0         1.0          1.0        1.0   \n",
      "1  Male   30     180      80       89.0         0.9          1.2        1.0   \n",
      "2  Male   40     165      75       91.0         1.2          1.5        1.0   \n",
      "3  Male   50     175      80       91.0         1.5          1.2        1.0   \n",
      "4  Male   50     165      60       80.0         1.0          1.2        1.0   \n",
      "\n",
      "   hear_right    SBP  ...  LDL_chole  triglyceride  hemoglobin  urine_protein  \\\n",
      "0         1.0  120.0  ...      126.0          92.0        17.1            1.0   \n",
      "1         1.0  130.0  ...      148.0         121.0        15.8            1.0   \n",
      "2         1.0  120.0  ...       74.0         104.0        15.8            1.0   \n",
      "3         1.0  145.0  ...      104.0         106.0        17.6            1.0   \n",
      "4         1.0  138.0  ...      117.0         104.0        13.8            1.0   \n",
      "\n",
      "   serum_creatinine  SGOT_AST  SGOT_ALT  gamma_GTP  SMK_stat_type_cd  DRK_YN  \n",
      "0               1.0      21.0      35.0       40.0               1.0       Y  \n",
      "1               0.9      20.0      36.0       27.0               3.0       N  \n",
      "2               0.9      47.0      32.0       68.0               1.0       N  \n",
      "3               1.1      29.0      34.0       18.0               1.0       N  \n",
      "4               0.8      19.0      12.0       25.0               1.0       N  \n",
      "\n",
      "[5 rows x 24 columns]\n",
      "\n",
      "Summary statistics for numerical columns:\n",
      "                 age         height         weight      waistline  \\\n",
      "count  991346.000000  991346.000000  991346.000000  991346.000000   \n",
      "mean       47.614491     162.240625      63.284050      81.233358   \n",
      "std        14.181339       9.282957      12.514241      11.850323   \n",
      "min        20.000000     130.000000      25.000000       8.000000   \n",
      "25%        35.000000     155.000000      55.000000      74.100000   \n",
      "50%        45.000000     160.000000      60.000000      81.000000   \n",
      "75%        60.000000     170.000000      70.000000      87.800000   \n",
      "max        85.000000     190.000000     140.000000     999.000000   \n",
      "\n",
      "          sight_left    sight_right      hear_left     hear_right  \\\n",
      "count  991346.000000  991346.000000  991346.000000  991346.000000   \n",
      "mean        0.980834       0.978429       1.031495       1.030476   \n",
      "std         0.605949       0.604774       0.174650       0.171892   \n",
      "min         0.100000       0.100000       1.000000       1.000000   \n",
      "25%         0.700000       0.700000       1.000000       1.000000   \n",
      "50%         1.000000       1.000000       1.000000       1.000000   \n",
      "75%         1.200000       1.200000       1.000000       1.000000   \n",
      "max         9.900000       9.900000       2.000000       2.000000   \n",
      "\n",
      "                 SBP            DBP  ...      HDL_chole      LDL_chole  \\\n",
      "count  991346.000000  991346.000000  ...  991346.000000  991346.000000   \n",
      "mean      122.432498      76.052627  ...      56.936800     113.037692   \n",
      "std        14.543148       9.889365  ...      17.238479      35.842812   \n",
      "min        67.000000      32.000000  ...       1.000000       1.000000   \n",
      "25%       112.000000      70.000000  ...      46.000000      89.000000   \n",
      "50%       120.000000      76.000000  ...      55.000000     111.000000   \n",
      "75%       131.000000      82.000000  ...      66.000000     135.000000   \n",
      "max       273.000000     185.000000  ...    8110.000000    5119.000000   \n",
      "\n",
      "        triglyceride     hemoglobin  urine_protein  serum_creatinine  \\\n",
      "count  991346.000000  991346.000000  991346.000000     991346.000000   \n",
      "mean      132.141751      14.229824       1.094224          0.860467   \n",
      "std       102.196985       1.584929       0.437724          0.480530   \n",
      "min         1.000000       1.000000       1.000000          0.100000   \n",
      "25%        73.000000      13.200000       1.000000          0.700000   \n",
      "50%       106.000000      14.300000       1.000000          0.800000   \n",
      "75%       159.000000      15.400000       1.000000          1.000000   \n",
      "max      9490.000000      25.000000       6.000000         98.000000   \n",
      "\n",
      "            SGOT_AST       SGOT_ALT      gamma_GTP  SMK_stat_type_cd  \n",
      "count  991346.000000  991346.000000  991346.000000     991346.000000  \n",
      "mean       25.989308      25.755051      37.136347          1.608122  \n",
      "std        23.493386      26.308599      50.424153          0.818507  \n",
      "min         1.000000       1.000000       1.000000          1.000000  \n",
      "25%        19.000000      15.000000      16.000000          1.000000  \n",
      "50%        23.000000      20.000000      23.000000          1.000000  \n",
      "75%        28.000000      29.000000      39.000000          2.000000  \n",
      "max      9999.000000    7210.000000     999.000000          3.000000  \n",
      "\n",
      "[8 rows x 22 columns]\n",
      "\n",
      "Data types of each column:\n",
      "sex                  object\n",
      "age                   int64\n",
      "height                int64\n",
      "weight                int64\n",
      "waistline           float64\n",
      "sight_left          float64\n",
      "sight_right         float64\n",
      "hear_left           float64\n",
      "hear_right          float64\n",
      "SBP                 float64\n",
      "DBP                 float64\n",
      "BLDS                float64\n",
      "tot_chole           float64\n",
      "HDL_chole           float64\n",
      "LDL_chole           float64\n",
      "triglyceride        float64\n",
      "hemoglobin          float64\n",
      "urine_protein       float64\n",
      "serum_creatinine    float64\n",
      "SGOT_AST            float64\n",
      "SGOT_ALT            float64\n",
      "gamma_GTP           float64\n",
      "SMK_stat_type_cd    float64\n",
      "DRK_YN               object\n",
      "dtype: object\n"
     ]
    }
   ],
   "execution_count": 9
  },
  {
   "metadata": {
    "ExecuteTime": {
     "end_time": "2025-09-07T08:36:18.763256Z",
     "start_time": "2025-09-07T08:36:18.760093Z"
    }
   },
   "cell_type": "markdown",
   "source": "### 1.1.b"
  },
  {
   "metadata": {
    "ExecuteTime": {
     "end_time": "2025-09-07T09:45:01.124324Z",
     "start_time": "2025-09-07T09:45:00.691635Z"
    }
   },
   "cell_type": "code",
   "source": [
    "print(\"\\nMissing values per column:\")\n",
    "print(df.isnull().sum())\n",
    "# print(df.info()) // shows count of not null values\n",
    "\n",
    "print(\"\\nDetect outliers(not using IQR or sth else):\")\n",
    "range_rules = {\n",
    "    \"age\": (0, 120),\n",
    "    \"height\": (100, 250),\n",
    "    \"weight\": (30, 250),\n",
    "    \"sight_left\": (0, 2),\n",
    "    \"sight_right\": (0, 2),\n",
    "    \"SBP\": (70, 250),\n",
    "    \"DBP\": (40, 150),\n",
    "    \"BLDS\": (40, 400),\n",
    "    \"tot_chole\": (70, 400),\n",
    "    \"HDL_chole\": (10, 150),\n",
    "    \"LDL_chole\": (30, 300),\n",
    "    \"triglyceride\": (20, 1000),\n",
    "    \"hemoglobin\": (5, 20),\n",
    "    \"serum_creatinine\": (0.2, 20),\n",
    "    \"SGOT_AST\": (0, 500),\n",
    "    \"SGOT_ALT\": (0, 500),\n",
    "    \"gamma_GTP\": (0, 1000)\n",
    "}\n",
    "\n",
    "valid_values = {\n",
    "    \"sex\": {\"Male\", \"Female\"},\n",
    "    \"hear_left\": {1, 2},\n",
    "    \"hear_right\": {1, 2},\n",
    "    \"urine_protein\": {1, 2, 3, 4, 5, 6},\n",
    "    \"SMK_stat_type_cd\": {1, 2, 3},\n",
    "    \"DRK_YN\": {\"Y\", \"N\"}\n",
    "}\n",
    "\n",
    "print(\"Logical outliers per column:\")\n",
    "\n",
    "# valid value ranges\n",
    "for col, (low, high) in range_rules.items():\n",
    "    if col in df.columns:\n",
    "        mask = (df[col] < low) | (df[col] > high)\n",
    "        print(f\"{col}: {mask.sum()} outliers\")\n",
    "\n",
    "# discrete vallid values\n",
    "for col, valid in valid_values.items():\n",
    "    if col in df.columns:\n",
    "        mask = ~df[col].isin(valid)\n",
    "        print(f\"{col}: {mask.sum()} invalid values\")\n",
    "\n",
    "print(\"\\nUnique values in categorical columns:\")\n",
    "categorical_cols = df.select_dtypes(include=['object', 'category']).columns\n",
    "for col in categorical_cols:\n",
    "    print(f\"{col}: {df[col].nunique()} unique values\")\n",
    "    print(df[col].unique())\n"
   ],
   "outputs": [
    {
     "name": "stdout",
     "output_type": "stream",
     "text": [
      "\n",
      "Missing values per column:\n",
      "sex                 0\n",
      "age                 0\n",
      "height              0\n",
      "weight              0\n",
      "waistline           0\n",
      "sight_left          0\n",
      "sight_right         0\n",
      "hear_left           0\n",
      "hear_right          0\n",
      "SBP                 0\n",
      "DBP                 0\n",
      "BLDS                0\n",
      "tot_chole           0\n",
      "HDL_chole           0\n",
      "LDL_chole           0\n",
      "triglyceride        0\n",
      "hemoglobin          0\n",
      "urine_protein       0\n",
      "serum_creatinine    0\n",
      "SGOT_AST            0\n",
      "SGOT_ALT            0\n",
      "gamma_GTP           0\n",
      "SMK_stat_type_cd    0\n",
      "DRK_YN              0\n",
      "dtype: int64\n",
      "\n",
      "Detect outliers(not using IQR or sth else):\n",
      "Logical outliers per column:\n",
      "age: 0 outliers\n",
      "height: 0 outliers\n",
      "weight: 9 outliers\n",
      "sight_left: 3130 outliers\n",
      "sight_right: 3132 outliers\n",
      "SBP: 5 outliers\n",
      "DBP: 26 outliers\n",
      "BLDS: 237 outliers\n",
      "tot_chole: 269 outliers\n",
      "HDL_chole: 166 outliers\n",
      "LDL_chole: 3080 outliers\n",
      "triglyceride: 1426 outliers\n",
      "hemoglobin: 89 outliers\n",
      "serum_creatinine: 458 outliers\n",
      "SGOT_AST: 136 outliers\n",
      "SGOT_ALT: 156 outliers\n",
      "gamma_GTP: 0 outliers\n",
      "sex: 0 invalid values\n",
      "hear_left: 0 invalid values\n",
      "hear_right: 0 invalid values\n",
      "urine_protein: 0 invalid values\n",
      "SMK_stat_type_cd: 0 invalid values\n",
      "DRK_YN: 0 invalid values\n",
      "\n",
      "Unique values in categorical columns:\n",
      "sex: 2 unique values\n",
      "['Male' 'Female']\n",
      "DRK_YN: 2 unique values\n",
      "['Y' 'N']\n"
     ]
    }
   ],
   "execution_count": 16
  },
  {
   "metadata": {},
   "cell_type": "markdown",
   "source": [
    "# 2 Data Cleaning\n",
    "    a. Handling Missing Values\n",
    "    b. Choose appropriate methods to handle missing values (e.g., mean/median imputation for numerical data, mode imputation for categorical data, or deletion of rows/columns).\n",
    "    c. Justify your choices for handling missing data."
   ]
  },
  {
   "metadata": {},
   "cell_type": "code",
   "outputs": [],
   "execution_count": null,
   "source": ""
  },
  {
   "metadata": {},
   "cell_type": "markdown",
   "source": [
    "# 3 Handling Outliers\n",
    "    a. Detect outliers using methods such as the IQR method or Z-score.\n",
    "    b. Decide whether to remove, cap, or transform the outliers. Justify your decisions."
   ]
  },
  {
   "metadata": {},
   "cell_type": "code",
   "outputs": [],
   "execution_count": null,
   "source": ""
  },
  {
   "metadata": {},
   "cell_type": "markdown",
   "source": [
    "# 4 Data Transformation\n",
    "    a. Encoding Categorical Data\n",
    "        i. Apply label encoding or one-hot encoding to transform categorical data into numerical form.\n",
    "        ii. Justify your choice of encoding method.\n",
    "    b. Feature Scaling\n",
    "        i. Apply feature scaling techniques such as normalization (Min-Max scaling) or standardization (Z-score normalization) to the dataset.\n",
    "        ii. Explain why feature scaling is necessary and how it impacts the model.\n"
   ]
  },
  {
   "metadata": {},
   "cell_type": "code",
   "outputs": [],
   "execution_count": null,
   "source": ""
  },
  {
   "metadata": {},
   "cell_type": "markdown",
   "source": [
    "# 5 Data Splitting\n",
    "    a. Split the preprocessed dataset into training and testing sets. Typically, an 80-20 or 70-30 split is used.\n",
    "    b. Explain the importance of splitting the data and how it prevents overfitting."
   ]
  },
  {
   "metadata": {},
   "cell_type": "code",
   "outputs": [],
   "execution_count": null,
   "source": ""
  },
  {
   "metadata": {},
   "cell_type": "markdown",
   "source": [
    "# 6 Bonus\n",
    "Apply dimensionality reduction techniques such as Principal\n",
    "Component Analysis (PCA) and discuss how it affects the dataset."
   ]
  }
 ],
 "metadata": {
  "language_info": {
   "name": "python"
  },
  "kernelspec": {
   "name": "python3",
   "language": "python",
   "display_name": "Python 3 (ipykernel)"
  }
 },
 "nbformat": 4,
 "nbformat_minor": 2
}
