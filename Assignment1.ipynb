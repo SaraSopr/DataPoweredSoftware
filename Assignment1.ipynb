{
 "cells": [
  {
   "metadata": {},
   "cell_type": "markdown",
   "source": [
    "# 1 Data Exploration\n",
    "    a. Explore the dataset by displaying the first few rows, summary statistics, and data types of each column.\n",
    "    b. Identify missing values, outliers, and unique values in categorical columns."
   ]
  },
  {
   "metadata": {},
   "cell_type": "markdown",
   "source": [
    "## 1.1 Smoking dataset\n",
    "### 1.1.a"
   ]
  },
  {
   "metadata": {},
   "cell_type": "markdown",
   "source": "### 1.1.b"
  },
  {
   "metadata": {},
   "cell_type": "markdown",
   "source": [
    "# 2 Data Cleaning\n",
    "    a. Handling Missing Values\n",
    "    b. Choose appropriate methods to handle missing values (e.g., mean/median imputation for numerical data, mode imputation for categorical data, or deletion of rows/columns).\n",
    "    c. Justify your choices for handling missing data."
   ]
  },
  {
   "metadata": {},
   "cell_type": "code",
   "outputs": [],
   "execution_count": null,
   "source": ""
  },
  {
   "metadata": {},
   "cell_type": "markdown",
   "source": [
    "# 3 Handling Outliers\n",
    "    a. Detect outliers using methods such as the IQR method or Z-score.\n",
    "    b. Decide whether to remove, cap, or transform the outliers. Justify your decisions."
   ]
  },
  {
   "metadata": {},
   "cell_type": "code",
   "outputs": [],
   "execution_count": null,
   "source": ""
  },
  {
   "metadata": {},
   "cell_type": "markdown",
   "source": [
    "# 4 Data Transformation\n",
    "    a. Encoding Categorical Data\n",
    "        i. Apply label encoding or one-hot encoding to transform categorical data into numerical form.\n",
    "        ii. Justify your choice of encoding method.\n",
    "    b. Feature Scaling\n",
    "        i. Apply feature scaling techniques such as normalization (Min-Max scaling) or standardization (Z-score normalization) to the dataset.\n",
    "        ii. Explain why feature scaling is necessary and how it impacts the model.\n"
   ]
  },
  {
   "metadata": {},
   "cell_type": "code",
   "outputs": [],
   "execution_count": null,
   "source": ""
  },
  {
   "metadata": {},
   "cell_type": "markdown",
   "source": [
    "# 5 Data Splitting\n",
    "    a. Split the preprocessed dataset into training and testing sets. Typically, an 80-20 or 70-30 split is used.\n",
    "    b. Explain the importance of splitting the data and how it prevents overfitting."
   ]
  },
  {
   "metadata": {},
   "cell_type": "code",
   "outputs": [],
   "execution_count": null,
   "source": ""
  },
  {
   "metadata": {},
   "cell_type": "markdown",
   "source": [
    "# 6 Bonus\n",
    "Apply dimensionality reduction techniques such as Principal\n",
    "Component Analysis (PCA) and discuss how it affects the dataset."
   ]
  }
 ],
 "metadata": {
  "language_info": {
   "name": "python"
  },
  "kernelspec": {
   "name": "python3",
   "language": "python",
   "display_name": "Python 3 (ipykernel)"
  }
 },
 "nbformat": 4,
 "nbformat_minor": 2
}
