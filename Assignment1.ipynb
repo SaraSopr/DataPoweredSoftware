{
 "cells": [
  {
   "metadata": {},
   "cell_type": "markdown",
   "source": [
    "# 1 Data Exploration\n",
    "    a. Explore the dataset by displaying the first few rows, summary statistics, and data types of each column.\n",
    "    b. Identify missing values, outliers, and unique values in categorical columns."
   ]
  }
 ],
 "metadata": {
  "language_info": {
   "name": "python"
  }
 },
 "nbformat": 4,
 "nbformat_minor": 2
}
