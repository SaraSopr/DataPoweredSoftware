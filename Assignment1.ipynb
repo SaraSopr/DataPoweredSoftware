{
 "cells": [
  {
   "cell_type": "code",
   "execution_count": 3,
   "metadata": {
    "ExecuteTime": {
     "end_time": "2025-09-08T17:27:09.830101Z",
     "start_time": "2025-09-08T17:27:08.517919Z"
    }
   },
   "outputs": [],
   "source": [
    "import pandas as pd"
   ]
  },
  {
   "cell_type": "markdown",
   "metadata": {},
   "source": [
    "# 1 Data Exploration\n",
    "    a. Explore the dataset by displaying the first few rows, summary statistics, and data types of each column.\n",
    "    b. Identify missing values, outliers, and unique values in categorical columns."
   ]
  },
  {
   "cell_type": "code",
   "execution_count": 9,
   "metadata": {
    "ExecuteTime": {
     "end_time": "2025-09-08T17:31:47.560017Z",
     "start_time": "2025-09-08T17:31:47.548085Z"
    }
   },
   "outputs": [
    {
     "name": "stdout",
     "output_type": "stream",
     "text": [
      "         date  dcoilwtico\n",
      "0  2013-01-01         NaN\n",
      "1  2013-01-02       93.14\n",
      "2  2013-01-03       92.97\n",
      "3  2013-01-04       93.12\n",
      "4  2013-01-07       93.20\n",
      "date           0\n",
      "dcoilwtico    43\n",
      "dtype: int64\n",
      "<class 'pandas.core.frame.DataFrame'>\n",
      "RangeIndex: 1218 entries, 0 to 1217\n",
      "Data columns (total 2 columns):\n",
      " #   Column      Non-Null Count  Dtype  \n",
      "---  ------      --------------  -----  \n",
      " 0   date        1218 non-null   object \n",
      " 1   dcoilwtico  1175 non-null   float64\n",
      "dtypes: float64(1), object(1)\n",
      "memory usage: 19.2+ KB\n",
      "None\n"
     ]
    }
   ],
   "source": [
    "oil_data = pd.read_csv(\"oil.csv\")\n",
    "print(oil_data.head())\n",
    "print(oil_data.isna().sum())\n",
    "print(oil_data.info())\n",
    "\n"
   ]
  },
  {
   "cell_type": "markdown",
   "metadata": {},
   "source": [
    "# 2 Data Cleaning\n",
    "    a. Handling Missing Values\n",
    "    b. Choose appropriate methods to handle missing values (e.g., mean/median imputation for numerical data, mode imputation for categorical data, or deletion of rows/columns).\n",
    "    c. Justify your choices for handling missing data."
   ]
  },
  {
   "cell_type": "code",
   "execution_count": null,
   "metadata": {
    "ExecuteTime": {
     "end_time": "2025-09-08T17:27:10.162681Z",
     "start_time": "2025-09-08T17:27:10.149795Z"
    }
   },
   "outputs": [],
   "source": []
  },
  {
   "cell_type": "markdown",
   "metadata": {},
   "source": [
    "# 3 Handling Outliers\n",
    "    a. Detect outliers using methods such as the IQR method or Z-score.\n",
    "    b. Decide whether to remove, cap, or transform the outliers. Justify your decisions."
   ]
  },
  {
   "cell_type": "code",
   "execution_count": null,
   "metadata": {
    "ExecuteTime": {
     "end_time": "2025-09-08T17:27:10.342199Z",
     "start_time": "2025-09-08T17:27:10.320664Z"
    }
   },
   "outputs": [],
   "source": []
  },
  {
   "cell_type": "markdown",
   "metadata": {},
   "source": [
    "# 4 Data Transformation\n",
    "    a. Encoding Categorical Data\n",
    "        i. Apply label encoding or one-hot encoding to transform categorical data into numerical form.\n",
    "        ii. Justify your choice of encoding method.\n",
    "    b. Feature Scaling\n",
    "        i. Apply feature scaling techniques such as normalization (Min-Max scaling) or standardization (Z-score normalization) to the dataset.\n",
    "        ii. Explain why feature scaling is necessary and how it impacts the model.\n"
   ]
  },
  {
   "cell_type": "code",
   "execution_count": null,
   "metadata": {
    "ExecuteTime": {
     "end_time": "2025-09-08T17:27:10.398891Z",
     "start_time": "2025-09-08T17:27:10.391284Z"
    }
   },
   "outputs": [],
   "source": []
  },
  {
   "cell_type": "markdown",
   "metadata": {},
   "source": [
    "# 5 Data Splitting\n",
    "    a. Split the preprocessed dataset into training and testing sets. Typically, an 80-20 or 70-30 split is used.\n",
    "    b. Explain the importance of splitting the data and how it prevents overfitting."
   ]
  },
  {
   "cell_type": "code",
   "execution_count": null,
   "metadata": {
    "ExecuteTime": {
     "end_time": "2025-09-08T17:27:10.429843Z",
     "start_time": "2025-09-08T17:27:10.423107Z"
    }
   },
   "outputs": [],
   "source": []
  },
  {
   "cell_type": "markdown",
   "metadata": {},
   "source": [
    "# 6 Bonus\n",
    "Apply dimensionality reduction techniques such as Principal\n",
    "Component Analysis (PCA) and discuss how it affects the dataset."
   ]
  }
 ],
 "metadata": {
  "kernelspec": {
   "display_name": "Python 3 (ipykernel)",
   "language": "python",
   "name": "python3"
  },
  "language_info": {
   "codemirror_mode": {
    "name": "ipython",
    "version": 3
   },
   "file_extension": ".py",
   "mimetype": "text/x-python",
   "name": "python",
   "nbconvert_exporter": "python",
   "pygments_lexer": "ipython3",
   "version": "3.9.6"
  }
 },
 "nbformat": 4,
 "nbformat_minor": 4
}
